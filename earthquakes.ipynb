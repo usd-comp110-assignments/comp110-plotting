{
 "cells": [
  {
   "cell_type": "markdown",
   "id": "c51fdb69",
   "metadata": {},
   "source": [
    "# Earthquake Visualization\n",
    "\n",
    "---\n",
    "\n",
    "## Import Modules"
   ]
  },
  {
   "cell_type": "code",
   "execution_count": null,
   "id": "8657adf2",
   "metadata": {},
   "outputs": [],
   "source": [
    "import sys\n",
    "import math\n",
    "import matplotlib.pyplot as plt\n",
    "from imageio.v2 import imread"
   ]
  },
  {
   "cell_type": "markdown",
   "id": "230a1360",
   "metadata": {},
   "source": [
    "## Load Background"
   ]
  },
  {
   "cell_type": "code",
   "execution_count": null,
   "id": "2aca3aba",
   "metadata": {},
   "outputs": [],
   "source": [
    "img = imread(\"world-map-full.jpg\")"
   ]
  },
  {
   "cell_type": "code",
   "execution_count": null,
   "id": "3d84eee4",
   "metadata": {},
   "outputs": [],
   "source": [
    "plt.imshow(img, zorder=0, extent=[-180, 180, -90, 90])\n",
    "plt.axis('off')\n",
    "plt.show()"
   ]
  },
  {
   "cell_type": "markdown",
   "id": "1800daf3",
   "metadata": {},
   "source": [
    "---\n",
    "\n",
    "## Get Earthquake Locations"
   ]
  },
  {
   "cell_type": "code",
   "execution_count": null,
   "id": "4451296e",
   "metadata": {},
   "outputs": [],
   "source": [
    "def get_eq_locs(filename):\n",
    "    \"\"\"\n",
    "    Returns a tuple containing a list of latitudes and longitudes for\n",
    "    earthquakes in a file.\n",
    "    \"\"\"\n",
    "\n",
    "    latitudes = []\n",
    "    longitudes = []\n",
    "\n",
    "    # To Do: Loop through the lines, adding each latitude and longitude to the lists\n",
    "    # initialized above.\n",
    "    # Don't forget to handle the header line before the loop.\n",
    "\n",
    "    return None # Replace this with code that returns a tuple of latitudes and longitudes\n"
   ]
  },
  {
   "cell_type": "markdown",
   "id": "9be1ae07",
   "metadata": {},
   "source": [
    "Test your function here:"
   ]
  },
  {
   "cell_type": "code",
   "execution_count": null,
   "id": "ec742aa4",
   "metadata": {},
   "outputs": [],
   "source": [
    "# add your code here"
   ]
  },
  {
   "cell_type": "markdown",
   "id": "743f9f3a",
   "metadata": {},
   "source": [
    "---\n",
    "\n",
    "## Visualize Earthquake data"
   ]
  },
  {
   "cell_type": "code",
   "execution_count": null,
   "id": "9ead18ab",
   "metadata": {},
   "outputs": [],
   "source": [
    "# add your code here\n",
    "\n",
    "plt.imshow(img, zorder=0, extent=[-180, 180, -90, 90])\n",
    "plt.axis('off')\n",
    "plt.show()"
   ]
  }
 ],
 "metadata": {
  "kernelspec": {
   "display_name": "Python 3",
   "language": "python",
   "name": "python3"
  },
  "language_info": {
   "codemirror_mode": {
    "name": "ipython",
    "version": 3
   },
   "file_extension": ".py",
   "mimetype": "text/x-python",
   "name": "python",
   "nbconvert_exporter": "python",
   "pygments_lexer": "ipython3",
   "version": "3.13.7"
  }
 },
 "nbformat": 4,
 "nbformat_minor": 5
}
