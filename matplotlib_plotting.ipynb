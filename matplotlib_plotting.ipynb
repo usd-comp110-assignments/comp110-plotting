{
 "cells": [
  {
   "cell_type": "markdown",
   "id": "3ccd13fb",
   "metadata": {},
   "source": [
    "# Matplotlib Features\n",
    "\n",
    "---"
   ]
  },
  {
   "cell_type": "markdown",
   "id": "766fe84e",
   "metadata": {},
   "source": [
    "## Importing needed modules\n",
    "\n",
    "Importing of the modules goes first at the top"
   ]
  },
  {
   "cell_type": "code",
   "execution_count": null,
   "id": "320cfb00",
   "metadata": {},
   "outputs": [],
   "source": [
    "import matplotlib.pyplot as plt"
   ]
  },
  {
   "cell_type": "markdown",
   "id": "2fc3b0a6",
   "metadata": {},
   "source": [
    "---\n",
    "\n",
    "## Aliasing\n",
    "\n",
    "### Importing data"
   ]
  },
  {
   "cell_type": "code",
   "execution_count": null,
   "id": "328cf6a4",
   "metadata": {},
   "outputs": [],
   "source": [
    "x_vals = [-8, 5, 12]\n",
    "y_vals = [3, 7, -3]"
   ]
  },
  {
   "cell_type": "markdown",
   "id": "9e77d469",
   "metadata": {},
   "source": [
    "### Creating Plots"
   ]
  },
  {
   "cell_type": "code",
   "execution_count": null,
   "id": "9bbd8626",
   "metadata": {},
   "outputs": [],
   "source": [
    "# plot the data\n",
    "plt.scatter(x_vals, y_vals)\n",
    "\n",
    "# set up the axis labels and title\n",
    "plt.xlabel(\"Foo\")\n",
    "plt.ylabel(\"Bar\")\n",
    "plt.title(\"An exciting graph!\")\n",
    "\n",
    "plt.show()"
   ]
  },
  {
   "cell_type": "markdown",
   "id": "f11ce178",
   "metadata": {},
   "source": [
    "---\n",
    "\n",
    "## Using the Plot function"
   ]
  },
  {
   "cell_type": "code",
   "execution_count": null,
   "id": "6c71cf8f",
   "metadata": {},
   "outputs": [],
   "source": [
    "# enter code here"
   ]
  },
  {
   "cell_type": "markdown",
   "id": "e9db8c0d",
   "metadata": {},
   "source": [
    "---\n",
    "\n",
    "## Adding Colors"
   ]
  },
  {
   "cell_type": "code",
   "execution_count": null,
   "id": "b766c9d8",
   "metadata": {},
   "outputs": [],
   "source": [
    "plt.plot([-8, 5, 12], [3, 7, -3], color=\"red\")\n",
    "plt.plot([-4, -1, 5], [8, 8, 2], color=\"blue\")\n",
    "plt.show()"
   ]
  },
  {
   "cell_type": "markdown",
   "id": "dc4014f2",
   "metadata": {},
   "source": [
    "---\n",
    "\n",
    "## Drawing mathematical functions\n",
    "\n",
    "### Creating Data"
   ]
  },
  {
   "cell_type": "code",
   "execution_count": null,
   "id": "f8849230",
   "metadata": {},
   "outputs": [],
   "source": [
    "x_vals = []\n",
    "y1_vals = []\n",
    "y2_vals = []\n",
    "\n",
    "for x in range(-10, 11):\n",
    "    x_vals.append(x)\n",
    "    y1 = -(x * x)\n",
    "    y1_vals.append(y1)\n",
    "    y2 = 3*x + 5\n",
    "    y2_vals.append(y2)"
   ]
  },
  {
   "cell_type": "markdown",
   "id": "24ab5127",
   "metadata": {},
   "source": [
    "### Plotting Data"
   ]
  },
  {
   "cell_type": "code",
   "execution_count": null,
   "id": "b8998438",
   "metadata": {},
   "outputs": [],
   "source": [
    "plt.plot(x_vals, y1_vals, color=\"orange\")\n",
    "plt.plot(x_vals, y2_vals, color=\"green\")\n",
    "plt.show()"
   ]
  }
 ],
 "metadata": {
  "kernelspec": {
   "display_name": "Python 3",
   "language": "python",
   "name": "python3"
  },
  "language_info": {
   "codemirror_mode": {
    "name": "ipython",
    "version": 3
   },
   "file_extension": ".py",
   "mimetype": "text/x-python",
   "name": "python",
   "nbconvert_exporter": "python",
   "pygments_lexer": "ipython3",
   "version": "3.13.7"
  }
 },
 "nbformat": 4,
 "nbformat_minor": 5
}
